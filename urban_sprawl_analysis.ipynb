{
 "cells": [
  {
   "cell_type": "markdown",
   "id": "93d61c34-87ca-496c-a194-9bbc972f2542",
   "metadata": {},
   "source": [
    "# Urban Sprawl Analysis\n",
    "\n",
    "This notebook demonstrates how to use the Urban Sprawl Analysis toolkit to analyze land cover change and urban expansion using Google Earth Engine and Python."
   ]
  },
  {
   "cell_type": "code",
   "execution_count": null,
   "id": "fa7abe23-3ea8-46d1-81b3-68709a54e675",
   "metadata": {},
   "outputs": [],
   "source": [
    "# Setup: Import modules and configure environment\n",
    "import sys, os\n",
    "sys.path.append(os.path.join(os.path.dirname('__file__'), 'src'))\n",
    "from gee_utils import GEEProcessor\n",
    "from land_cover import LandCoverClassifier\n",
    "from change_detection import ChangeDetector\n",
    "from visualization import UrbanSprawlVisualizer\n",
    "\n",
    "# Initialize processors\n",
    "gee_processor = GEEProcessor()\n",
    "classifier = LandCoverClassifier(gee_processor)\n",
    "change_detector = ChangeDetector(gee_processor)\n",
    "visualizer = UrbanSprawlVisualizer()"
   ]
  },
  {
   "cell_type": "markdown",
   "id": "00759834-8b03-422f-a8bf-c4b9b36cc224",
   "metadata": {},
   "source": [
    "## 1. Define Study Area and Time Periods\n",
    "(Edit `config/settings.py` to change these parameters.)"
   ]
  },
  {
   "cell_type": "code",
   "execution_count": null,
   "id": "ee202f34-69fc-4158-a104-bc1659987ed4",
   "metadata": {},
   "outputs": [],
   "source": [
    "from settings import STUDY_AREA, TIME_PERIODS\n",
    "print('Study Area:', STUDY_AREA['name'])\n",
    "print('Time Period:', TIME_PERIODS['start_year'], '-', TIME_PERIODS['end_year'])"
   ]
  },
  {
   "cell_type": "markdown",
   "id": "df5d14c8-d1fd-4c28-9206-00d838d28ae9",
   "metadata": {},
   "source": [
    "## 2. Download and Preprocess Satellite Imagery\n",
    "Get Landsat collections for the start and end years."
   ]
  },
  {
   "cell_type": "code",
   "execution_count": null,
   "id": "72f9ac07-942d-42cd-a745-b8c83e461d1f",
   "metadata": {},
   "outputs": [],
   "source": [
    "start_year = TIME_PERIODS['start_year']\n",
    "end_year = TIME_PERIODS['end_year']\n",
    "\n",
    "# Get image collections\n",
    "collection1 = gee_processor.get_landsat_collection(f'{start_year}-01-01', f'{start_year}-12-31')\n",
    "collection2 = gee_processor.get_landsat_collection(f'{end_year}-01-01', f'{end_year}-12-31')\n",
    "\n",
    "# Create composite images\n",
    "image1 = gee_processor.get_composite_image(collection1)\n",
    "image2 = gee_processor.get_composite_image(collection2)"
   ]
  },
  {
   "cell_type": "markdown",
   "id": "5517b7ee-9cf7-4efe-9d44-4800ae3fda15",
   "metadata": {},
   "source": [
    "## 3. Land Cover Classification\n",
    "Classify land cover for both years."
   ]
  },
  {
   "cell_type": "code",
   "execution_count": null,
   "id": "8040dd8c-9e5b-4ac2-9cf1-8475371ccc13",
   "metadata": {},
   "outputs": [],
   "source": [
    "classified1 = classifier.classify_land_cover(image1)\n",
    "classified2 = classifier.classify_land_cover(image2)"
   ]
  },
  {
   "cell_type": "markdown",
   "id": "268ff8fe-a3b3-470a-9268-0bfea590cfbe",
   "metadata": {},
   "source": [
    "## 4. Change Detection\n",
    "Analyze changes in land cover and urban expansion."
   ]
  },
  {
   "cell_type": "code",
   "execution_count": null,
   "id": "f0759d3c-a2b6-4b62-ab9d-49ed938fcce0",
   "metadata": {},
   "outputs": [],
   "source": [
    "change_image = change_detector.detect_land_cover_changes(classified1, classified2)\n",
    "veg_changes = change_detector.analyze_vegetation_changes(image1, image2)\n",
    "urban_changes = change_detector.analyze_urban_expansion(image1, image2)\n",
    "print('Vegetation Changes:', veg_changes)\n",
    "print('Urban Expansion:', urban_changes)"
   ]
  },
  {
   "cell_type": "markdown",
   "id": "dd8ca897-a92a-4163-b16e-98ec937b765c",
   "metadata": {},
   "source": [
    "## 5. Visualization\n",
    "Create and display maps and charts."
   ]
  },
  {
   "cell_type": "code",
   "execution_count": null,
   "id": "2d19816e-6c3e-49ac-a8dc-a959878fef10",
   "metadata": {},
   "outputs": [],
   "source": [
    "# Interactive map for classified land cover\n",
    "m1 = visualizer.create_interactive_map(classified1, title=f'Land Cover {start_year}')\n",
    "m2 = visualizer.create_interactive_map(classified2, title=f'Land Cover {end_year}')\n",
    "m1.save('results/maps/land_cover_start.html')\n",
    "m2.save('results/maps/land_cover_end.html')\n",
    "\n",
    "# Land cover statistics\n",
    "stats1 = classifier.get_class_statistics(classified1)\n",
    "stats2 = classifier.get_class_statistics(classified2)\n",
    "\n",
    "fig1 = visualizer.create_land_cover_chart(stats1, title=f'Land Cover {start_year}')\n",
    "fig2 = visualizer.create_land_cover_chart(stats2, title=f'Land Cover {end_year}')\n",
    "visualizer.save_chart(fig1, f'land_cover_{start_year}')\n",
    "visualizer.save_chart(fig2, f'land_cover_{end_year}')"
   ]
  },
  {
   "cell_type": "markdown",
   "id": "b13ee01f-ddaa-4954-b151-77a93d4cc62d",
   "metadata": {},
   "source": [
    "## 6. Export Results\n",
    "Save metrics and change analysis results."
   ]
  },
  {
   "cell_type": "code",
   "execution_count": null,
   "id": "332006a1-01eb-4a35-8806-50ef0a6d8eb7",
   "metadata": {},
   "outputs": [],
   "source": [
    "visualizer.save_metrics_csv(veg_changes, 'vegetation_changes')\n",
    "visualizer.save_metrics_csv(urban_changes, 'urban_expansion')"
   ]
  }
 ],
 "metadata": {
  "kernelspec": {
   "display_name": "Python 3 (ipykernel)",
   "language": "python",
   "name": "python3"
  },
  "language_info": {
   "codemirror_mode": {
    "name": "ipython",
    "version": 3
   },
   "file_extension": ".py",
   "mimetype": "text/x-python",
   "name": "python",
   "nbconvert_exporter": "python",
   "pygments_lexer": "ipython3",
   "version": "3.13.5"
  }
 },
 "nbformat": 4,
 "nbformat_minor": 5
}
